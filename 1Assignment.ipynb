{
 "cells": [
  {
   "cell_type": "code",
   "execution_count": null,
   "id": "ea7b65c7-6468-4f50-8ddb-adc5eaf1c567",
   "metadata": {},
   "outputs": [],
   "source": [
    "# Question 1.  explain the key features of Python that make it a popular choice for programming"
   ]
  },
  {
   "cell_type": "code",
   "execution_count": null,
   "id": "5422e103-470b-406b-9c6c-f34c0ba3a580",
   "metadata": {},
   "outputs": [],
   "source": [
    "\"\"\" Python is a highly popular programming language, and its key features contribute significantly to its widespread \n",
    "adoption and use. Here are some of the main features that make Python a popular choice among programmers\n",
    "1. Readability and Simplicity\n",
    "   Clear Syntax: Python’s syntax is designed to be readable and straightforward, making it easy to understand and write code. \n",
    "    This simplicity allows new programmers to learn the language quickly.\n",
    "   Whitespace: Python uses indentation to define the structure of the code, which enforces a clean and consistent coding style.\n",
    "2. Versatility and Flexibility\n",
    "   General-Purpose Language: Python can be used for a wide range of applications, from web development and data analysis to artificial intelligence\n",
    "   and scientific computing.\n",
    "   Cross-Platform Compatibility: Python runs on various operating systems, including Windows, macOS, and Linux, \n",
    "   ensuring that code can be executed on different platforms without modification.\n",
    "    \n",
    "3. Extensive Standard Library and Ecosystem\n",
    "   Standard Library: Python comes with a vast standard library that provides modules and functions for tasks like file I/O, system calls, and \n",
    "   networking.\n",
    "   Third-Party Libraries: The Python Package Index (PyPI) hosts thousands of third-party libraries and frameworks, such as NumPy, pandas, Flask, \n",
    "   and Django, which extend Python’s capabilities.\n",
    " 4. Interpreted Language\n",
    "   No Compilation Needed: Python is an interpreted language, meaning that code can be run directly without the need for a separate compilation step. \n",
    "   This feature facilitates quick testing and debugging.\n",
    " 5.Support for Multiple Programming Paradigms\n",
    "   Procedural Programming: Python supports procedural programming, which is based on functions and procedures.\n",
    "   Object-Oriented Programming (OOP): Python has robust support for OOP, enabling the use of classes and objects to encapsulate data and functionality.\n",
    "   Functional Programming: Python also supports functional programming features, such as higher-order functions, map/filter/reduce, and lambda expressions.  \n",
    "\"\"\"\n",
    "\n"
   ]
  },
  {
   "cell_type": "code",
   "execution_count": null,
   "id": "31c25bf3-63f6-48c8-827c-a3f284c28298",
   "metadata": {},
   "outputs": [],
   "source": [
    "#Question 2.Describe the role of predefined keywords in Python and provide examples of how they are used in a programe."
   ]
  },
  {
   "cell_type": "code",
   "execution_count": null,
   "id": "792877b1-8d9f-402a-90fb-678e5d672644",
   "metadata": {},
   "outputs": [],
   "source": [
    "\"\"\"\n",
    "Predefined keywords in Python are reserved words that have special meanings and purposes within the language.\n",
    "These keywords are fundamental to Python's syntax and structure, and they cannot be used as identifiers \n",
    "(names for variables, functions, classes, etc.). They are used to define the structure and control flow of Python programs.\n",
    "\n",
    "Role of Predefined Keywords in Python\n",
    "1.Control Flow: Keywords like if, else, elif, for, while, break, continue, and pass are used to control the flow of the program.\n",
    "2.Data Definition: Keywords such as class, def, lambda, and global are used to define data structures and functions.\n",
    "3.Exception Handling: Keywords like try, except, finally, raise, and assert are used for handling and raising exceptions.\n",
    "4.Variable Scope: Keywords such as global and nonlocal are used to define the scope of variables.\n",
    "5.Logical Operations: Keywords like and, or, not, is, and in are used for logical operations.\n",
    "6.Miscellaneous: Other keywords like import, from, as, with, yield, return, True, False, and None serve various purposes in the language.\n",
    "\n",
    "\"\"\""
   ]
  },
  {
   "cell_type": "code",
   "execution_count": null,
   "id": "892d1fa0-8afd-493f-9149-bfdf5c08e872",
   "metadata": {},
   "outputs": [],
   "source": [
    "# Example of how they are used in a programe"
   ]
  },
  {
   "cell_type": "code",
   "execution_count": 1,
   "id": "91c614e5-03b4-4b85-ae58-62faca49b4b7",
   "metadata": {},
   "outputs": [
    {
     "name": "stdout",
     "output_type": "stream",
     "text": [
      "Positive\n",
      "1\n",
      "3\n"
     ]
    }
   ],
   "source": [
    "#1.Control Flow\n",
    "x = 10\n",
    "if x > 0:\n",
    "    print(\"Positive\")\n",
    "elif x == 0:\n",
    "    print(\"Zero\")\n",
    "else:\n",
    "    print(\"Negative\")\n",
    "\n",
    "# for, break, continue\n",
    "for i in range(10):\n",
    "    if i == 5:\n",
    "        break  # Exit the loop when i is 5\n",
    "    if i % 2 == 0:\n",
    "        continue  # Skip even numbers\n",
    "    print(i)\n"
   ]
  },
  {
   "cell_type": "code",
   "execution_count": null,
   "id": "141c4d72-b166-4dc8-8e41-bc859e39749a",
   "metadata": {},
   "outputs": [],
   "source": [
    "#Question 3.Compare and contrast mutable and immutable objects in Python with examples"
   ]
  },
  {
   "cell_type": "code",
   "execution_count": null,
   "id": "6097328b-7820-49b3-b3cd-54d727d2567a",
   "metadata": {},
   "outputs": [],
   "source": [
    "\"\"\"\n",
    "In Python, objects can be classified as either mutable or immutable. Understanding the difference between these two types of objects is crucial\n",
    "for effective programming, especially when dealing with data structures and functions.\n",
    "\"\"\""
   ]
  },
  {
   "cell_type": "code",
   "execution_count": 2,
   "id": "2e8bf0ab-300c-441b-ac75-e7eccfc939b8",
   "metadata": {},
   "outputs": [
    {
     "name": "stdout",
     "output_type": "stream",
     "text": [
      "[1, 2, 3]\n",
      "[1, 2, 3, 4]\n",
      "[0, 2, 3, 4]\n"
     ]
    }
   ],
   "source": [
    "#Mutable Objects\n",
    "#Mutable objects are those whose state or contents can be changed after they are created. Common examples of mutable objects include lists, \n",
    "#dictionaries, and sets.\n",
    "#Examples\n",
    "#1 lists\n",
    "my_list = [1, 2, 3]\n",
    "print(my_list)  # Output: [1, 2, 3]\n",
    "my_list.append(4)\n",
    "print(my_list)  # Output: [1, 2, 3, 4]\n",
    "my_list[0] = 0\n",
    "print(my_list)  # Output: [0, 2, 3, 4]\n",
    "\n"
   ]
  },
  {
   "cell_type": "code",
   "execution_count": 3,
   "id": "ae971538-d1c9-4ee6-b8cb-aa6c3fe776f8",
   "metadata": {},
   "outputs": [
    {
     "name": "stdout",
     "output_type": "stream",
     "text": [
      "{'a': 1, 'b': 2}\n",
      "{'a': 1, 'b': 2, 'c': 3}\n",
      "{'a': 0, 'b': 2, 'c': 3}\n"
     ]
    }
   ],
   "source": [
    "#2.Dictionary:\n",
    "my_dict = {\"a\": 1, \"b\": 2}\n",
    "print(my_dict)  # Output: {'a': 1, 'b': 2}\n",
    "my_dict[\"c\"] = 3\n",
    "print(my_dict)  # Output: {'a': 1, 'b': 2, 'c': 3}\n",
    "my_dict[\"a\"] = 0\n",
    "print(my_dict)  # Output: {'a': 0, 'b': 2, 'c': 3}\n"
   ]
  },
  {
   "cell_type": "code",
   "execution_count": 5,
   "id": "f62152ba-6ec0-4287-a06e-84a28df44a59",
   "metadata": {},
   "outputs": [
    {
     "name": "stdout",
     "output_type": "stream",
     "text": [
      "{1, 2, 3}\n",
      "{1, 2, 3, 4}\n",
      "{1, 3, 4}\n"
     ]
    }
   ],
   "source": [
    "#3. Set\n",
    "my_set = {1, 2, 3}\n",
    "print(my_set)  # Output: {1, 2, 3}\n",
    "my_set.add(4)\n",
    "print(my_set)  # Output: {1, 2, 3, 4}\n",
    "my_set.remove(2)\n",
    "print(my_set)  # Output: {1, 3, 4}\n"
   ]
  },
  {
   "cell_type": "code",
   "execution_count": null,
   "id": "f479227a-0c73-4b3f-87a1-db3ed43794cc",
   "metadata": {},
   "outputs": [],
   "source": [
    "#Immutable Objects\n",
    "\"\"\"Immutable objects are those whose state or contents cannot be changed after they are created. \n",
    "Common examples of immutable objects include strings, tuples, and integers.\"\"\"\n"
   ]
  },
  {
   "cell_type": "code",
   "execution_count": null,
   "id": "9b0992f4-9ca4-4de2-a78b-1ca5ef113e0d",
   "metadata": {},
   "outputs": [],
   "source": [
    "#Examples"
   ]
  },
  {
   "cell_type": "code",
   "execution_count": 6,
   "id": "df4610c7-0cac-40ea-a6db-4e27d349ec40",
   "metadata": {},
   "outputs": [
    {
     "name": "stdout",
     "output_type": "stream",
     "text": [
      "hello\n"
     ]
    }
   ],
   "source": [
    "#String\n",
    "my_string = \"hello\"\n",
    "print(my_string)  # Output: hello\n",
    "# Trying to change a character in the string will raise an error\n",
    "# my_string[0] = 'H'  # This will raise a TypeError"
   ]
  },
  {
   "cell_type": "code",
   "execution_count": null,
   "id": "22b2a4b1-f3ad-4503-9884-8f9d327be215",
   "metadata": {},
   "outputs": [],
   "source": [
    "#Tuple\n",
    "my_tuple = (1, 2, 3)\n",
    "print(my_tuple)  # Output: (1, 2, 3)\n",
    "# Trying to change an element in the tuple will raise an error\n",
    "# my_tuple[0] = 0  # This will raise a TypeError"
   ]
  },
  {
   "cell_type": "code",
   "execution_count": 7,
   "id": "1c6c80c5-d5af-43a0-86a9-d53b7e490ae4",
   "metadata": {},
   "outputs": [
    {
     "name": "stdout",
     "output_type": "stream",
     "text": [
      "10\n",
      "15\n"
     ]
    }
   ],
   "source": [
    "#Integer\n",
    "my_int = 10\n",
    "print(my_int)  # Output: 10\n",
    "my_int += 5  # This creates a new integer object\n",
    "print(my_int)  # Output: 15\n"
   ]
  },
  {
   "cell_type": "code",
   "execution_count": 8,
   "id": "8b9ed341-d2eb-4aca-a998-3834455e64a8",
   "metadata": {},
   "outputs": [
    {
     "name": "stdout",
     "output_type": "stream",
     "text": [
      "8\n"
     ]
    }
   ],
   "source": [
    "# Question 4 Discuss the different types of operators in Python and provide examples of how they are used.\n",
    "\n",
    "\"\"\"\n",
    "Python provides a wide variety of operators that allow you to perform different types of operations on variables and values. \n",
    "These operators can be categorized into several types based on their functionality.\n",
    "\n",
    "1. Arithmetic Operators\n",
    "Arithmetic operators are used to perform mathematical operations like addition, subtraction, multiplication, etc.\n",
    "\n",
    "Addition (+): Adds two operands.\n",
    "\"\"\"\n",
    "a = 5\n",
    "b = 3\n",
    "print(a + b)  # Output: 8\n"
   ]
  },
  {
   "cell_type": "code",
   "execution_count": 9,
   "id": "c045dd51-a5c7-41b7-b18f-b23612638fd6",
   "metadata": {},
   "outputs": [
    {
     "name": "stdout",
     "output_type": "stream",
     "text": [
      "2\n",
      "15\n",
      "1.6666666666666667\n",
      "1\n",
      "2\n",
      "125\n"
     ]
    }
   ],
   "source": [
    "#Subtraction (-): Subtracts the second operand from the first.\n",
    "print(a - b)  # Output: 2\n",
    "#Multiplication (*): Multiplies two operands.\n",
    "print(a * b)  # Output: 15\n",
    "#Division (/): Divides the first operand by the second (returns a float).\n",
    "print(a / b)  # Output: 1.6666666666666667\n",
    "#Floor Division (//): Divides the first operand by the second (returns an integer).\n",
    "print(a // b)  # Output: 1\n",
    "#Modulus (%): Returns the remainder of the division.\n",
    "print(a % b)  # Output: 2\n",
    "#Exponentiation (**): Raises the first operand to the power of the second.\n",
    "print(a ** b) # Output: 125\n"
   ]
  },
  {
   "cell_type": "code",
   "execution_count": 10,
   "id": "ea8bd337-6d93-4859-a43a-2e56236c5dd1",
   "metadata": {},
   "outputs": [
    {
     "name": "stdout",
     "output_type": "stream",
     "text": [
      "False\n",
      "True\n",
      "True\n",
      "False\n",
      "True\n",
      "False\n"
     ]
    }
   ],
   "source": [
    "#2. Comparison Operators\n",
    "#Comparison operators are used to compare two values and return a boolean result (True or False).\n",
    "\n",
    "#Equal to (==): Checks if two operands are equal.\n",
    "print(a == b)  # Output: False\n",
    "\n",
    "#Not equal to (!=): Checks if two operands are not equal.\n",
    "print(a != b)  # Output: True\n",
    "\n",
    "#Greater than (>): Checks if the first operand is greater than the second.\n",
    "print(a > b)  # Output: True\n",
    "\n",
    "#Less than (<): Checks if the first operand is less than the second.\n",
    "print(a < b)  # Output: False\n",
    "\n",
    "#Greater than or equal to (>=): Checks if the first operand is greater than or equal to the second.\n",
    "print(a >= b)  # Output: True\n",
    "\n",
    "#Less than or equal to (<=): Checks if the first operand is less than or equal to the second.\n",
    "print(a <= b)  # Output: False\n",
    "\n",
    "\n"
   ]
  },
  {
   "cell_type": "code",
   "execution_count": 11,
   "id": "73179d94-e7c1-420f-9498-23fa53adaa6e",
   "metadata": {},
   "outputs": [
    {
     "name": "stdout",
     "output_type": "stream",
     "text": [
      "15\n",
      "10\n",
      "20\n",
      "10.0\n",
      "3.0\n",
      "1.0\n",
      "1.0\n"
     ]
    }
   ],
   "source": [
    "#3. Assignment Operators\n",
    "#Assignment operators are used to assign values to variables.\n",
    "\n",
    "#Assign (=): Assigns the value of the right operand to the left operand.\n",
    "c = 10\n",
    "#Add and assign (+=): Adds the right operand to the left operand and assigns the result to the left operand.\n",
    "c += 5  # Equivalent to c = c + 5\n",
    "print(c)  # Output: 15\n",
    "#Subtract and assign (-=): Subtracts the right operand from the left operand and assigns the result to the left operand.\n",
    "c -= 5  # Equivalent to c = c - 5\n",
    "print(c)  # Output: 10\n",
    "#Multiply and assign (*=): Multiplies the right operand with the left operand and assigns the result to the left operand.\n",
    "c *= 2  # Equivalent to c = c * 2\n",
    "print(c)  # Output: 20\n",
    "#Divide and assign (/=): Divides the left operand by the right operand and assigns the result to the left operand.\n",
    "c /= 2  # Equivalent to c = c / 2\n",
    "print(c)  # Output: 10.0\n",
    "#Floor divide and assign (//=): Floor divides the left operand by the right operand and assigns the result to the left operand.\n",
    "c //= 3  # Equivalent to c = c // 3\n",
    "print(c)  # Output: 3.0\n",
    "#Modulus and assign (%=): Takes the modulus using the two operands and assigns the result to the left operand.\n",
    "c %= 2  # Equivalent to c = c % 2\n",
    "print(c)  # Output: 1.0\n",
    "#Exponentiate and assign (**=): Raises the left operand to the power of the right operand and assigns the result to the left operand.\n",
    "c **= 3  # Equivalent to c = c ** 3\n",
    "print(c)  # Output: 1.0\n"
   ]
  },
  {
   "cell_type": "code",
   "execution_count": 1,
   "id": "db7cef38-bec9-44b8-b470-516fc442aa5d",
   "metadata": {},
   "outputs": [
    {
     "name": "stdout",
     "output_type": "stream",
     "text": [
      "True\n",
      "True\n",
      "False\n"
     ]
    }
   ],
   "source": [
    " #4. Logical Operators\n",
    "#Logical operators are used to combine conditional statements.\n",
    "\n",
    "#Logical AND (and):\n",
    "\n",
    "result = (5 > 3 and 3 > 1)\n",
    "print(result)  # Output: True\n",
    "\n",
    "#Logical OR (or):\n",
    "\n",
    "result = (5 > 3 or 3 > 5)\n",
    "print(result)  # Output: True\n",
    "\n",
    "#Logical NOT (not):\n",
    "\n",
    "result = not(5 > 3)\n",
    "print(result)  # Output: False"
   ]
  },
  {
   "cell_type": "code",
   "execution_count": 2,
   "id": "fcf891a4-a8fb-41cd-a852-789c45f2337c",
   "metadata": {},
   "outputs": [
    {
     "name": "stdout",
     "output_type": "stream",
     "text": [
      "1\n",
      "7\n",
      "6\n",
      "-6\n",
      "10\n",
      "2\n"
     ]
    }
   ],
   "source": [
    " #5 Bitwise Operators\n",
    " #Bitwise operators are used to perform bit-level operations.\n",
    "\n",
    " #AND (&):\n",
    "result = 5 & 3  # 0101 & 0011 = 0001\n",
    "print(result)  # Output: 1\n",
    "\n",
    " #OR (|):\n",
    "result = 5 | 3  # 0101 | 0011 = 0111\n",
    "print(result)  # Output: 7\n",
    "\n",
    " #XOR (^):\n",
    "result = 5 ^ 3  # 0101 ^ 0011 = 0110\n",
    "print(result)  # Output: 6\n",
    " \n",
    "#NOT (~):\n",
    "result = ~5  # ~0101 = 1010 (in 2's complement form)\n",
    "print(result)  # Output: -6\n",
    "\n",
    "#Left Shift (<<):\n",
    "result = 5 << 1  # 0101 << 1 = 1010\n",
    "print(result)  # Output: 10\n",
    "\n",
    "#Right Shift (>>):\n",
    "result = 5 >> 1  # 0101 >> 1 = 0010\n",
    "print(result)  # Output: 2"
   ]
  },
  {
   "cell_type": "code",
   "execution_count": 3,
   "id": "b4adeb2b-0d5c-4e14-9087-510ae74d66e9",
   "metadata": {},
   "outputs": [
    {
     "name": "stdout",
     "output_type": "stream",
     "text": [
      "10.0\n",
      "<class 'float'>\n",
      "10\n",
      "10.75\n",
      "<class 'int'>\n",
      "<class 'float'>\n"
     ]
    }
   ],
   "source": [
    " #Question 5 Explain the concept of type casting in Python with examples\n",
    "\"\"\"\n",
    "Type casting in Python is the process of converting a variable from one data type to another. \n",
    "This can be useful when you need to perform operations that require a specific data type. \n",
    "Python provides several built-in functions to perform type casting.\n",
    "    Type Casting Functions\n",
    "int(): Converts a value to an integer.\n",
    "float(): Converts a value to a floating-point number.\n",
    "str(): Converts a value to a string.\n",
    "bool(): Converts a value to a boolean.\n",
    "list(): Converts a value to a list.\n",
    "tuple(): Converts a value to a tuple.\n",
    "set(): Converts a value to a set.\n",
    "dict(): Converts a value to a dictionary.\n",
    " \"\"\"\n",
    "#Examples of Type Casting\n",
    "#Integer to Float\n",
    "# Original integer value\n",
    "x = 10\n",
    "# Convert integer to float\n",
    "y = float(x)\n",
    "print(y)  # Output: 10.0\n",
    "print(type(y))  # Output: <class 'float'>\n",
    "\n",
    "#String to Integer/Float\n",
    "# Original string values\n",
    "str_x = \"10\"\n",
    "str_y = \"10.75\"\n",
    "# Convert string to integer and float\n",
    "int_x = int(str_x)\n",
    "float_y = float(str_y)\n",
    "print(int_x)  # Output: 10\n",
    "print(float_y)  # Output: 10.75\n",
    "print(type(int_x))  # Output: <class 'int'>\n",
    "print(type(float_y))  # Output: <class 'float'>\n",
    "\n",
    "\n",
    "    "
   ]
  },
  {
   "cell_type": "code",
   "execution_count": 4,
   "id": "8a05d4b0-0f60-4955-8373-523e76fdff17",
   "metadata": {},
   "outputs": [
    {
     "name": "stdout",
     "output_type": "stream",
     "text": [
      "x is greater than 5\n",
      "x is not greater than 5\n",
      "x is equal to 5\n"
     ]
    }
   ],
   "source": [
    "# Question 6.How do conditional statements work in Python? Illustrate with examples\n",
    "\"\"\"\n",
    "Conditional statements in Python are used to execute code based on whether a condition is true or false.\n",
    "The primary conditional statements in Python are if, elif, and else. \n",
    "These statements allow you to control the flow of your program and make decisions based on different conditions.\n",
    "\"\"\"\n",
    "# Basic Conditional Statement: if\n",
    "\"\"\"\n",
    "The if statement evaluates a condition (an expression that returns True or False).\n",
    "If the condition is True, the block of code following the if statement is executed.\n",
    "\"\"\"\n",
    "x = 10\n",
    "if x > 5:\n",
    "    print(\"x is greater than 5\")\n",
    "# Output: x is greater than 5\n",
    "\n",
    "# Adding an Alternative: else\n",
    "\"\"\"The else statement follows an if statement and is executed if the condition in the if statement is False.\"\"\"\n",
    "\n",
    "x = 3\n",
    "if x > 5:\n",
    "    print(\"x is greater than 5\")\n",
    "else:\n",
    "    print(\"x is not greater than 5\")\n",
    "# Output: x is not greater than 5\n",
    "\n",
    "#Multiple Conditions: elif\n",
    "\"\"\"The elif (short for else if) statement allows you to check multiple conditions. \n",
    "If the first if statement is False, the program checks the elif condition(s). If an elif condition is True, \n",
    "its corresponding block of code is executed. \n",
    "If none of the if or elif conditions are True, the else block is executed.\"\"\"\n",
    "\n",
    "x = 5\n",
    "if x > 5:\n",
    "    print(\"x is greater than 5\")\n",
    "elif x == 5:\n",
    "    print(\"x is equal to 5\")\n",
    "else:\n",
    "    print(\"x is less than 5\")\n",
    "# Output: x is equal to 5\n"
   ]
  },
  {
   "cell_type": "code",
   "execution_count": 5,
   "id": "b1b046d0-5d22-4b09-8415-e282a4a6c10f",
   "metadata": {},
   "outputs": [
    {
     "name": "stdout",
     "output_type": "stream",
     "text": [
      "apple\n",
      "banana\n",
      "cherry\n",
      "0\n",
      "1\n",
      "2\n",
      "3\n",
      "4\n",
      "name: Alice\n",
      "age: 25\n",
      "city: New York\n",
      "0\n",
      "1\n",
      "2\n",
      "3\n",
      "4\n"
     ]
    },
    {
     "name": "stdin",
     "output_type": "stream",
     "text": [
      "Enter a number (or 'exit' to quit):  1\n"
     ]
    },
    {
     "name": "stdout",
     "output_type": "stream",
     "text": [
      "You entered: 1\n"
     ]
    },
    {
     "name": "stdin",
     "output_type": "stream",
     "text": [
      "Enter a number (or 'exit' to quit):  2\n"
     ]
    },
    {
     "name": "stdout",
     "output_type": "stream",
     "text": [
      "You entered: 2\n"
     ]
    },
    {
     "name": "stdin",
     "output_type": "stream",
     "text": [
      "Enter a number (or 'exit' to quit):  3\n"
     ]
    },
    {
     "name": "stdout",
     "output_type": "stream",
     "text": [
      "You entered: 3\n"
     ]
    },
    {
     "name": "stdin",
     "output_type": "stream",
     "text": [
      "Enter a number (or 'exit' to quit):  4\n"
     ]
    },
    {
     "name": "stdout",
     "output_type": "stream",
     "text": [
      "You entered: 4\n"
     ]
    },
    {
     "name": "stdin",
     "output_type": "stream",
     "text": [
      "Enter a number (or 'exit' to quit):  5\n"
     ]
    },
    {
     "name": "stdout",
     "output_type": "stream",
     "text": [
      "You entered: 5\n"
     ]
    },
    {
     "name": "stdin",
     "output_type": "stream",
     "text": [
      "Enter a number (or 'exit' to quit):  5\n"
     ]
    },
    {
     "name": "stdout",
     "output_type": "stream",
     "text": [
      "You entered: 5\n"
     ]
    },
    {
     "name": "stdin",
     "output_type": "stream",
     "text": [
      "Enter a number (or 'exit' to quit):  5\n"
     ]
    },
    {
     "name": "stdout",
     "output_type": "stream",
     "text": [
      "You entered: 5\n"
     ]
    },
    {
     "name": "stdin",
     "output_type": "stream",
     "text": [
      "Enter a number (or 'exit' to quit):  5\n"
     ]
    },
    {
     "name": "stdout",
     "output_type": "stream",
     "text": [
      "You entered: 5\n"
     ]
    },
    {
     "name": "stdin",
     "output_type": "stream",
     "text": [
      "Enter a number (or 'exit' to quit):  5\n"
     ]
    },
    {
     "name": "stdout",
     "output_type": "stream",
     "text": [
      "You entered: 5\n"
     ]
    },
    {
     "name": "stdin",
     "output_type": "stream",
     "text": [
      "Enter a number (or 'exit' to quit):  5\n"
     ]
    },
    {
     "name": "stdout",
     "output_type": "stream",
     "text": [
      "You entered: 5\n"
     ]
    },
    {
     "name": "stdin",
     "output_type": "stream",
     "text": [
      "Enter a number (or 'exit' to quit):  5\n"
     ]
    },
    {
     "name": "stdout",
     "output_type": "stream",
     "text": [
      "You entered: 5\n"
     ]
    },
    {
     "name": "stdin",
     "output_type": "stream",
     "text": [
      "Enter a number (or 'exit' to quit):  exit\n"
     ]
    }
   ],
   "source": [
    "#Question 7 Describe the different types of loops in Python and their use cases with examples\n",
    "\n",
    "\n",
    "\"\"\"\n",
    "Python provides two main types of loops: for loops and while loops. These loops allow you to iterate over a block of code multiple times, \n",
    "enabling repetitive tasks to be handled efficiently.\n",
    "\n",
    "for Loop\n",
    "The for loop is used to iterate over a sequence (such as a list, tuple, dictionary, set, or string) or other iterable objects. \n",
    "The loop iterates over each item in the sequence and executes the block of code within the loop for each item.\n",
    "\n",
    "Use Cases:\n",
    "Iterating over a list or array.\n",
    "Iterating over a range of numbers.\n",
    "Iterating over the keys or values of a dictionary.\n",
    "\"\"\"\n",
    "\n",
    "#Example: Iterating over a List\n",
    "fruits = [\"apple\", \"banana\", \"cherry\"]\n",
    "for fruit in fruits:\n",
    "    print(fruit)\n",
    "# Output:\n",
    "# apple\n",
    "# banana\n",
    "# cherry\n",
    "\n",
    "#Example: Iterating over a Range of Numbers\n",
    "for i in range(5):\n",
    "    print(i)\n",
    "# Output:\n",
    "# 0\n",
    "# 1\n",
    "# 2\n",
    "# 3\n",
    "# 4\n",
    "\n",
    "#Example: Iterating over Dictionary Keys and Values\n",
    "\n",
    "person = {\"name\": \"Alice\", \"age\": 25, \"city\": \"New York\"}\n",
    "for key, value in person.items():\n",
    "    print(f\"{key}: {value}\")\n",
    "# Output:\n",
    "# name: Alice\n",
    "# age: 25\n",
    "# city: New York\n",
    "\n",
    "\"\"\"\n",
    "while Loop\n",
    "The while loop executes a block of code as long as the condition specified evaluates to True. \n",
    "It is used when the number of iterations is not known beforehand and depends on a condition.\n",
    "\n",
    "Use Cases:\n",
    "Repeatedly executing a block of code while a condition remains True.\n",
    "Implementing infinite loops with a break condition.\n",
    "Waiting for a certain condition to be met.\n",
    "\"\"\"\n",
    "#Example: Basic while Loop\n",
    "count = 0\n",
    "while count < 5:\n",
    "    print(count)\n",
    "    count += 1\n",
    "# Output:\n",
    "# 0\n",
    "# 1\n",
    "# 2\n",
    "# 3\n",
    "# 4\n",
    "\n",
    "#Example: Infinite Loop with Break Condition\n",
    "\n",
    "while True:\n",
    "    user_input = input(\"Enter a number (or 'exit' to quit): \")\n",
    "    if user_input == 'exit':\n",
    "        break\n",
    "    print(f\"You entered: {user_input}\")\n",
    "# This loop will continue until the user types 'exit'.\n",
    "\n",
    "\n"
   ]
  },
  {
   "cell_type": "code",
   "execution_count": null,
   "id": "1ba3a137-88f8-4f98-9e8c-c43b65706dad",
   "metadata": {},
   "outputs": [],
   "source": []
  }
 ],
 "metadata": {
  "kernelspec": {
   "display_name": "Python 3 (ipykernel)",
   "language": "python",
   "name": "python3"
  },
  "language_info": {
   "codemirror_mode": {
    "name": "ipython",
    "version": 3
   },
   "file_extension": ".py",
   "mimetype": "text/x-python",
   "name": "python",
   "nbconvert_exporter": "python",
   "pygments_lexer": "ipython3",
   "version": "3.10.8"
  }
 },
 "nbformat": 4,
 "nbformat_minor": 5
}
